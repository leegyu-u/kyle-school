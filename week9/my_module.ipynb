{
 "cells": [
  {
   "cell_type": "code",
   "execution_count": 1,
   "metadata": {},
   "outputs": [],
   "source": [
    "import pytest"
   ]
  },
  {
   "cell_type": "code",
   "execution_count": 2,
   "metadata": {},
   "outputs": [
    {
     "name": "stdout",
     "output_type": "stream",
     "text": [
      "Writing utils.py\n"
     ]
    }
   ],
   "source": [
    "%%writefile -a utils.py\n",
    "# 이 파일을 실행하면 utils.py에 파일이 저장됩니다\n",
    "\n",
    "import datetime\n",
    "\n",
    "def is_working_day(date: datetime.date):\n",
    "    \"\"\"\n",
    "    date를 받아서 근무일인지 확인하는 함수\n",
    "    연휴는 고려하지 않고, 토/일은 근무일이 아니고 월~금은 근무일\n",
    "    \"\"\"\n",
    "    weekday = date.weekday()\n",
    "    if weekday in {5, 6}:\n",
    "        return False\n",
    "    else:\n",
    "        return True"
   ]
  },
  {
   "cell_type": "code",
   "execution_count": 5,
   "metadata": {},
   "outputs": [
    {
     "name": "stdout",
     "output_type": "stream",
     "text": [
      "Overwriting test_utils.py\n"
     ]
    }
   ],
   "source": [
    "%%writefile test_utils.py\n",
    "# test_utils.py를 아래 내용으로 overwrite합니다(-a 옵션 없이!)\n",
    "\n",
    "import datetime\n",
    "from utils import is_working_day\n",
    "\n",
    "def test_is_working_day():\n",
    "    assert is_working_day(datetime.date(2020,7,5)) == False\n",
    "    assert is_working_day(datetime.date(2020,7,4)) == False\n",
    "    assert is_working_day(datetime.date(2020,7,6)) == True"
   ]
  },
  {
   "cell_type": "code",
   "execution_count": 6,
   "metadata": {},
   "outputs": [
    {
     "name": "stdout",
     "output_type": "stream",
     "text": [
      "\u001b[1m============================= test session starts ==============================\u001b[0m\r\n",
      "platform darwin -- Python 3.7.2, pytest-5.3.5, py-1.8.1, pluggy-0.13.1\r\n",
      "rootdir: /Users/carrot/workspace/kyle-school/week9\r\n",
      "\u001b[1mcollecting ... \u001b[0m\u001b[1m\r",
      "collected 1 item                                                               \u001b[0m\r\n",
      "\r\n",
      "test_utils.py \u001b[32m.\u001b[0m\u001b[32m                                                          [100%]\u001b[0m\r\n",
      "\r\n",
      "\u001b[32m============================== \u001b[32m\u001b[1m1 passed\u001b[0m\u001b[32m in 0.01s\u001b[0m\u001b[32m ===============================\u001b[0m\r\n"
     ]
    }
   ],
   "source": [
    "!pytest test_utils.py\n",
    "# pytest를 실행합니다!"
   ]
  },
  {
   "cell_type": "code",
   "execution_count": null,
   "metadata": {},
   "outputs": [],
   "source": []
  }
 ],
 "metadata": {
  "kernelspec": {
   "display_name": "Python 3",
   "language": "python",
   "name": "python3"
  },
  "language_info": {
   "codemirror_mode": {
    "name": "ipython",
    "version": 3
   },
   "file_extension": ".py",
   "mimetype": "text/x-python",
   "name": "python",
   "nbconvert_exporter": "python",
   "pygments_lexer": "ipython3",
   "version": "3.7.2"
  }
 },
 "nbformat": 4,
 "nbformat_minor": 2
}
